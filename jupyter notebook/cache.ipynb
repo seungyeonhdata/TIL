{
 "cells": [
  {
   "cell_type": "code",
   "execution_count": null,
   "metadata": {},
   "outputs": [],
   "source": [
    "def cache(size,cities):\n",
    "    ca=[]\n",
    "    count=0\n",
    "    cities2=[]\n",
    "    for i in cities:\n",
    "        cities2.append(i.upper())\n",
    "    for i in range(len(cities2)):\n",
    "        if cities2[i] in ca:\n",
    "            count+=1\n",
    "        else:\n",
    "            count+=5\n",
    "            ca.append(cities2[i])\n",
    "            if len(ca)>size:\n",
    "                del ca[0]\n",
    "\n",
    "    print(count)\n",
    "a=0\n",
    "b=['Jeju', 'Pangyo',\"Seoul\", 'NewYork', 'LA']\n",
    "\n",
    "#input(\"size,cities: \").split('\t')\n",
    "cache(a,b)"
   ]
  },
  {
   "cell_type": "code",
   "execution_count": null,
   "metadata": {},
   "outputs": [],
   "source": [
    "def cache_time(size, cities):\n",
    "    import re\n",
    "    if 0<= size <=30:\n",
    "        if re.search(\"[^a-zA-Z]\",\"\".join(cities)) == None:\n",
    "            if size == 0:\n",
    "                print(\"실행시간:\", len(cities) * 5)\n",
    "            else:\n",
    "                cache = []\n",
    "                t = 0\n",
    "                for i in cities:\n",
    "                    i = i.upper()\n",
    "                    if i in cache:\n",
    "                        t+=1\n",
    "                        cache.append(cache.pop(cache.index(i)))\n",
    "                    elif i not in cache and len(cache)==size:\n",
    "                        t+=5\n",
    "                        cache.pop(0)\n",
    "                        cache.append(i)\n",
    "                    elif i not in cache and len(cache)<size:\n",
    "                        t+=5\n",
    "                        cache.append(i)\n",
    "                    \n",
    "                print(\"실행시간:\", t)\n",
    "        else:\n",
    "            print(\"도시 이름 오류\")\n",
    "    else:\n",
    "        print(\"캐시 크기 범위 오류\")"
   ]
  },
  {
   "cell_type": "code",
   "execution_count": null,
   "metadata": {},
   "outputs": [],
   "source": [
    "def runTime(cacheSize, cities):\n",
    "    citiesName = [c.lower() for c in cities]\n",
    "    cache = []\n",
    "    time = 0\n",
    "    for i in range(len(citiesName)):\n",
    "        if citiesName[i] not in cache:  # cache 내에 없는 경우\n",
    "            cache.append(citiesName[i])\n",
    "            time += 5\n",
    "            if len(cache) > cacheSize:  # cache 용량 초과한 경우\n",
    "                del cache[0]  # 맨앞에 있는(가장 오래된) data 삭제\n",
    "        elif citiesName[i] in cache:  # cache 내에 있는 경우\n",
    "            cache.remove(citiesName[i])  # 가장 오래된 data가 갱신되어야 하므로\n",
    "            cache.append(citiesName[i])  # 제거하고 다시 넣어줌\n",
    "            time += 1\n",
    "    return time"
   ]
  },
  {
   "cell_type": "code",
   "execution_count": 303,
   "metadata": {},
   "outputs": [],
   "source": [
    "cities=[\"Jeju\", \"Pangyo\", \"Seoul\", \"jeju\", \"Pangyo\", \"Seoul\", \"Jeju\", \"Pangyo\", \"Seoul\"]"
   ]
  },
  {
   "cell_type": "code",
   "execution_count": 304,
   "metadata": {},
   "outputs": [],
   "source": [
    "n=3\n",
    "time=0"
   ]
  },
  {
   "cell_type": "code",
   "execution_count": 305,
   "metadata": {},
   "outputs": [],
   "source": [
    "cache=[]\n",
    "cities=[city.lower() for city in cities]"
   ]
  },
  {
   "cell_type": "code",
   "execution_count": null,
   "metadata": {},
   "outputs": [],
   "source": []
  },
  {
   "cell_type": "code",
   "execution_count": 306,
   "metadata": {},
   "outputs": [],
   "source": [
    "if n>0:\n",
    "    for i in cities:\n",
    "        if i in cache:              #hit이면 값을 pop해서 제일 뒤로 넣어주기\n",
    "            cache.pop(cache.index(i))\n",
    "            cache.append(i)\n",
    "            time+=1\n",
    "        else:                       #miss일때\n",
    "            if len(cache)<n:        #캐시 다 안 찼으면 뒤에 더하고\n",
    "                cache.append(i)\n",
    "            else:                   #다 찼으면 제일 앞 빼고 뒤에 더하기\n",
    "                cache.pop(0)\n",
    "                cache.append(i)\n",
    "            time+=5\n",
    "else:\n",
    "    time+=len(cities)*5"
   ]
  },
  {
   "cell_type": "code",
   "execution_count": 307,
   "metadata": {},
   "outputs": [
    {
     "data": {
      "text/plain": [
       "21"
      ]
     },
     "execution_count": 307,
     "metadata": {},
     "output_type": "execute_result"
    }
   ],
   "source": [
    "time"
   ]
  },
  {
   "cell_type": "code",
   "execution_count": 301,
   "metadata": {},
   "outputs": [
    {
     "data": {
      "text/plain": [
       "'가'"
      ]
     },
     "execution_count": 301,
     "metadata": {},
     "output_type": "execute_result"
    }
   ],
   "source": [
    "a=['가','나','다']\n",
    "a.pop(a.index('가'))"
   ]
  },
  {
   "cell_type": "code",
   "execution_count": 300,
   "metadata": {},
   "outputs": [
    {
     "data": {
      "text/plain": [
       "0"
      ]
     },
     "execution_count": 300,
     "metadata": {},
     "output_type": "execute_result"
    }
   ],
   "source": [
    "a.index('가')"
   ]
  },
  {
   "cell_type": "code",
   "execution_count": 302,
   "metadata": {},
   "outputs": [
    {
     "data": {
      "text/plain": [
       "['나', '다']"
      ]
     },
     "execution_count": 302,
     "metadata": {},
     "output_type": "execute_result"
    }
   ],
   "source": [
    "a"
   ]
  },
  {
   "cell_type": "code",
   "execution_count": null,
   "metadata": {},
   "outputs": [],
   "source": []
  },
  {
   "cell_type": "code",
   "execution_count": null,
   "metadata": {},
   "outputs": [],
   "source": []
  }
 ],
 "metadata": {
  "kernelspec": {
   "display_name": "Python 3",
   "language": "python",
   "name": "python3"
  },
  "language_info": {
   "codemirror_mode": {
    "name": "ipython",
    "version": 3
   },
   "file_extension": ".py",
   "mimetype": "text/x-python",
   "name": "python",
   "nbconvert_exporter": "python",
   "pygments_lexer": "ipython3",
   "version": "3.8.3"
  }
 },
 "nbformat": 4,
 "nbformat_minor": 4
}
