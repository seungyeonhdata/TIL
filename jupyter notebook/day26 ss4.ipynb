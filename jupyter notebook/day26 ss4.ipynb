{
 "cells": [
  {
   "cell_type": "code",
   "execution_count": 10,
   "metadata": {},
   "outputs": [],
   "source": [
    "def euclid_minus(x,y):\n",
    "    while (y):\n",
    "        if x>y:\n",
    "            x,y=y,x-y\n",
    "        else: x,y=y-x,x\n",
    "    return x"
   ]
  },
  {
   "cell_type": "code",
   "execution_count": 7,
   "metadata": {},
   "outputs": [],
   "source": [
    "def euclid_div(x,y):\n",
    "    while(y):\n",
    "        x,y=y,x%y\n",
    "    return x"
   ]
  },
  {
   "cell_type": "code",
   "execution_count": 65,
   "metadata": {},
   "outputs": [],
   "source": [
    "a=1\n",
    "b=7"
   ]
  },
  {
   "cell_type": "code",
   "execution_count": 66,
   "metadata": {},
   "outputs": [],
   "source": [
    "def chance(a,b):\n",
    "    from fractions import Fraction\n",
    "    cnt=0\n",
    "    for i in range(a+1,b+1):\n",
    "        res=[]\n",
    "        for j in range(1,i+1):\n",
    "            if i%j==0:\n",
    "                res.append(j)\n",
    "        if len(res)%2==1:\n",
    "            cnt+=1\n",
    "    f=Fraction(cnt,b-a)\n",
    "    print(\"%d/%d\"%(f.numerator,f.denominator))"
   ]
  },
  {
   "cell_type": "code",
   "execution_count": 67,
   "metadata": {},
   "outputs": [
    {
     "name": "stdout",
     "output_type": "stream",
     "text": [
      "1/6\n"
     ]
    }
   ],
   "source": [
    "chance(a,b)"
   ]
  },
  {
   "cell_type": "code",
   "execution_count": null,
   "metadata": {},
   "outputs": [],
   "source": [
    "def printTime(x,y,n):\n",
    "    timeX=[x*i for i in range(1,n+1)]\n",
    "    timeY=[y*i for i in range(1,n+1)]\n",
    "    time=sorted(timeX+timeY)\n",
    "    print(time[n-1])"
   ]
  },
  {
   "cell_type": "code",
   "execution_count": 103,
   "metadata": {
    "scrolled": true
   },
   "outputs": [],
   "source": [
    "printTime(1,1,5)"
   ]
  },
  {
   "cell_type": "code",
   "execution_count": 136,
   "metadata": {},
   "outputs": [],
   "source": [
    "def print_time(x,y,n):\n",
    "    time=[x*i for i in range(1,n+1)]+[y*i for i in range(1,n+1)]\n",
    "    print(sorted(time)[n-1])\n",
    "print_time(3,5,4)"
   ]
  },
  {
   "cell_type": "code",
   "execution_count": 138,
   "metadata": {},
   "outputs": [],
   "source": [
    "def print_time(x,y,n):\n",
    "    t=1\n",
    "    while t//x+t//y<n:\n",
    "        t+=1\n",
    "    return t"
   ]
  },
  {
   "cell_type": "code",
   "execution_count": 140,
   "metadata": {},
   "outputs": [
    {
     "data": {
      "text/plain": [
       "9"
      ]
     },
     "execution_count": 140,
     "metadata": {},
     "output_type": "execute_result"
    }
   ],
   "source": [
    "print_time(3,5,4)"
   ]
  },
  {
   "cell_type": "code",
   "execution_count": null,
   "metadata": {},
   "outputs": [],
   "source": []
  },
  {
   "cell_type": "code",
   "execution_count": null,
   "metadata": {},
   "outputs": [],
   "source": []
  },
  {
   "cell_type": "code",
   "execution_count": null,
   "metadata": {},
   "outputs": [],
   "source": []
  }
 ],
 "metadata": {
  "kernelspec": {
   "display_name": "Python 3",
   "language": "python",
   "name": "python3"
  },
  "language_info": {
   "codemirror_mode": {
    "name": "ipython",
    "version": 3
   },
   "file_extension": ".py",
   "mimetype": "text/x-python",
   "name": "python",
   "nbconvert_exporter": "python",
   "pygments_lexer": "ipython3",
   "version": "3.8.3"
  }
 },
 "nbformat": 4,
 "nbformat_minor": 4
}
