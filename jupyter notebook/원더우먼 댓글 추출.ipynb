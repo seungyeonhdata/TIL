{
 "cells": [
  {
   "cell_type": "code",
   "execution_count": 1,
   "metadata": {},
   "outputs": [],
   "source": [
    "from bs4 import BeautifulSoup\n",
    "from selenium import webdriver\n",
    "driver=webdriver.Chrome(\"c:/scrap/chromedriver.exe\")"
   ]
  },
  {
   "cell_type": "code",
   "execution_count": 2,
   "metadata": {},
   "outputs": [],
   "source": [
    "url=\"https://movie.naver.com/movie/bi/mi/review.nhn?code=163834&page=1\"\n",
    "driver.get(url)"
   ]
  },
  {
   "cell_type": "code",
   "execution_count": 3,
   "metadata": {},
   "outputs": [
    {
     "name": "stdout",
     "output_type": "stream",
     "text": [
      "페이지 번호를 입력하세요 :1\n"
     ]
    }
   ],
   "source": [
    "def select_page(driver):\n",
    "    while True:\n",
    "        try:\n",
    "            n = int(input(\"페이지 번호를 입력하세요 :\"))\n",
    "            if n > 0:\n",
    "                n_page=\"https://movie.naver.com/movie/bi/mi/review.nhn?code=163834&page=\"+str(n)\n",
    "                driver.get(n_page)\n",
    "                break\n",
    "        except:\n",
    "            print(\"0보다 큰 정수를 입력하세요.\")\n",
    "    \n",
    "select_page(driver)"
   ]
  },
  {
   "cell_type": "code",
   "execution_count": 4,
   "metadata": {},
   "outputs": [
    {
     "name": "stdout",
     "output_type": "stream",
     "text": [
      "댓글 번호를 입력하세요 :3\n"
     ]
    }
   ],
   "source": [
    "def select_comments(driver):\n",
    "    while True:\n",
    "        try:\n",
    "            n = int(input(\"댓글 번호를 입력하세요 :\"))\n",
    "            if n > 0:\n",
    "                n_comments = driver.find_element_by_css_selector(\"#reviewTab > div > div > ul > li:nth-child({}) > p > a\".format(n))\n",
    "                n_comments.click()\n",
    "                break\n",
    "        except:\n",
    "            print(\"1에서 10 사이의 정수를 입력하세요.\")\n",
    "select_comments(driver)"
   ]
  },
  {
   "cell_type": "code",
   "execution_count": 14,
   "metadata": {},
   "outputs": [
    {
     "name": "stdout",
     "output_type": "stream",
     "text": [
      "Wonder Woman, 본명은 데미스키라의 공주 다이애나 (\n",
      "Princess Diana of Themyscira)는 어릴적 부터 데미갓 (반신반인) .다운 면모를 보이며 훨씬 체구가 큰 아마존 선배들과의 경쟁에서 두각을 드러냅니다. 그 과정에서 이모 이자 스승인 안티오페 장군으로 부터 중요한 삶의 원칙을 듣게 됩니다.  \"진실하지 못한 것은 아무 의미가 없고 오직 진실된 삶을 추구하는 것이 중요하다\"\n",
      "\n",
      "[원더우먼 1984]는 최근 10년간 많은 히어로물 들이 추구해온 현실적이고 사실적인 묘사 보다는 만화적 발상과 교훈적 색체가 너무 도드라지는 형태를 띠고 있습니다.  미국사회의 문화적 경제적 사회적 부흥기였던 당시를 표현하는 방식은 사실적이라기 보다는 뮤지컬 영화 같은 과장된 색채와 인물들의 과장된 몸짓으로 가득합니다.  데미스키라에서의 체육대회(?) 장면이 끝나고 백화점에서의 한바탕 가벼운 소동이 끝나면 뜨거웠던 무대를 마치고 내려온 가수의 그것처럼 그녀에게 허무함이 밀려옵니다. \n",
      "영생을 사는 그녀에게 유한한 인간들과의 삶은 견디기 힘든 상실감과 외로움의 연속이었을 것임을 짐작케 하는 장면들이 이어집니다.   \n",
      "\n",
      " \n",
      "공부만 하고 살았을 것 같은 유물학 박사 바바라 (빌런인 치타가 되는) 가 다이애나의 직장인 스미소니언 박물관에 들어오면서 두 사람은 서서히 마음을 터놓는 친구가 되는데, 그 과정에서 보여지는 다이애나 역의 갤가돗은 원더우먼이 아니라 차가운 도시녀로서의 매력을 폭발시킵니다.  \n",
      "더구나 죽었던 그녀의 유일한 사랑 스티브가 환생하면서 갤가돗이라는 절세미녀 배우의 매력은 히어로로서가 아니라 섹시하고 아름다운 여성으로서 스크린을 가득 채우고, 관객은 어지간한 도끼눈을 뜨지 않는다면 헤벌레 무장해제 됩니다.   \n",
      "워싱턴DC에서의 스티브와 다이애나의 데이트 장면에 들인 정성은 어지간한 로맨스 영화와 견줄 정도라서 그저 워싱턴DC로 여행가고 싶다는 생각만이 간절해졌을 정도니까요.  \n",
      "\n",
      "히어로물을 보러온 열혈팬들에게는 이게 무슨 당황스러운 전개냐고 하겠지만 [원더우먼1984]는 1차세계대전 (1914 ~ 1918) 때 연인을 잃은 이후 66년 동안 외롭게 살아온 여성(정말 그랬을까요?) 이라는 캐릭터에 몰입되도록 설정되어 있다보니 액션히어로로서의 매력보다는 사랑의 기쁨과 자신의 감정에 충실한 인물로 그려집니다. 그것도 러닝타임 1시간이 넘어가도록 말이죠. \n",
      "\n",
      "갤가돗의 미모는 그저 바라보고만 있어도 행복감이 뿜뿜할 지경이지만 그런 감정선을 표현하는 것이 중요할 수 밖에 없는 중반부 까지 혼자 끌고 가다보니 섬세한 연기력이 부족한 그녀에게는 이러한 설정이 역부족이 아닌가 하는 생각이 들게 합니다. 분노의 질주 5,6 편에서도 관객의 혼을 쏙 빼놓는 원더 스마일로 가까스로 용서를 받았던 연기력과 발음은 여전히 감정의 집중을 방해합니다. 오히려 바바라(치타) 역의 크리스틴 위그가 극의 집중력을 계속 끌어올리는데 중요한 역할을 합니다. \n",
      "\n",
      " \n",
      "\n",
      "사실 DC코믹스의 강력한 빌런인 맥스로드는 이 영화에서 야욕에 사로잡힌 인간으로 설정됩니다. 마치 마블코믹스의 강력한 빌런 만다린이 아이언맨3 에서 사기꾼 정도로 묘사되는 것과 흡사합니다. \n",
      "이 영화에서 맥스로드(페드로 파스칼 역)는 부를 축적하는 근본이 땅이라는 점과 유년시절 강압적인 아버지로 인해 성격적 결함을 갖게 되었다는 설정에서 트럼트 대통령을 떠올리게 됩니다. 게다가 외모적인 면에서도 유사하게 묘사했다는 점에서 더욱 그러한데요, 외양적 모습만으로도 진실해 보이지 않는 맥스로드는 금연표지판 밑에서 담배피는 사람처럼, 영화 초반에 박아놓은 \"진실만이 중요하다\"라는 캐치프레이즈에 바로 배치되는 인물입니다.  \n",
      "영화는 흘러흘러 결국 멸망해 가는 세상을 정상으로 돌려놓기 위해 우선 원더우먼 부터 부당하게 획득한 것(?)을 내어놓아야 하는 상황이 연출됩니다. 결국 희생은 기득권층의 솔선수범으로 부터 일어나야 한다는 프로파간다와 함께, 거짓된 욕망은 치명적인 결과를 초래한다는 단순하지만 강한 교훈을 일깨워주죠.\n",
      "84년이나 지금이나 물질적인 풍요로움이 도드라지는 시절에는 채워지지 않는 갈증과 허전함이 더욱 강해지는 것 같습니다. [원더우먼1984]는 그런 시기에는 더욱 진실한 가치들에 집중할 필요가 있다고 말하는 것 같습니다.  하지만 한편으로는 인간의 자연스러운 욕망자체가 불경스러운 것으로 비춰지는 것이 아닌가 하는 불편함도 있었습니다. 바바라가 하이힐을 신고 섹시해진 각선미에 취해있는 장면에서 하이힐은 여성에게 아름다움의 욕망을 들어주는 대신에 족건강을 내놓아야 할 것이라는 암시가 느껴졌으니까요. \n",
      "게다가 당신만을 영원히 사랑할것이라고 외치며 스러져가는 스티브를 건물 구석탱이에 불쌍하게 놔두고 세상을 구하기 위해 뒤도 돌아보지 않고 달려가는 다이애나, 아니 원더우먼의 결단력은 가슴을 흔드는 울컥함과 함께 간담을 서늘하게 하는 비정함 마저 느끼게 합니다.  다이애나가 사랑하는 남자를 다시 환생시킨것이 그렇게 진실되지 못한 바램이었을까요. 여성에게 하이힐이 진실되지 못한 욕구인 양 그려진 것 처럼 말이죠.  \n",
      "\n",
      "\n",
      "원더우먼은 그렇게 여성으로서의 자연스러운 욕구보다는 히어로 로서의 임무에 올인하여 자신의 능력을 최대치로 끌어올려 세상을 구합니다. 하늘을 나는 능력을 각성하는 장면은 매우 아름다워서 눈물이 핑돌 정도였지만 잃어버린 사랑에 대한 슬픔보다는 \"그래 난 역시 연애 보다는 원더우먼이 잘 맞아\" 라고 느끼는 듯 했습니다.  맥스로드와 바바라는 결국 자기것이 아니었던 것들을 바랬던 댓가를 치르고서야 (반 강제적으로 빼앗기고) 각자 알거지와 못생김녀로 다시 돌아갑니다. \n",
      "(이들도 원더우먼처럼 행복해졌을까요? 이미 돈맛과 인싸녀 맛을 봤는데?) \n",
      "부동산 보유자들의 집값 상승에 따른 이익을 환수하기 위해 종부세를 올리거나 공시지가를 과도하게 올리는 행위가 부동산 보유자들을 진실하지 못한 사람들로 간주하는 것 같은 현 정부야 말로 원더우먼을 본받아 위선의 가면을 벗고 초심으로 돌아가 K방역이니 뭐니 하는 가짜 영웅놀이는 집어치우고 위기에 처한 코로나 정국을 진심을 다해 구하길 바래봅니다. (영화는 영화일뿐 진지해지지 말자 !!)\n",
      "미국에서는 지난 10여년 동안 기독교적 정서보다는 다양한 종교와 인종을 중시하여 \"메리 크리스마스\"라는 성탄절 인사 조차 금기시 하는 경향이 이어져 오고 있는데요,\n",
      "마지막 장면에 다이애나와 마주친 남자가 당시에는 생소했을 요즘 인사인 \"해피 홀리데이즈\" 라고 말하는 것은 정말이지 - 트럼프가 최근에 \"메리 크리스마스\"라는 인사에 집착했던 것을 감안하면 - 이 영화를 관통하는 가장 중요한 주제가 \"反 트럼트\" 라는 주장도 일리가 있어 보입니다.  '\n",
      "\n",
      "아무튼 이런 저런 잡생각을 버리고 나면, 아름다운 배우들, 태양의 서커스가 디렉팅한 더 아름다운 액션 시퀀스, 심장을 콩닥이게 하는 한스 짐머의 음악들로 코로나에 지친 관객들이 연말연시를 조금이나마 보상받을 수 있는 아름답고 근사한 영화입니다.  꼭 보러가세요 .  방역수칙 잘 지키면서 ^^ \n"
     ]
    }
   ],
   "source": [
    "def read_comments(driver):\n",
    "    import time\n",
    "    from bs4 import BeautifulSoup\n",
    "    source=driver.page_source\n",
    "    soup=BeautifulSoup(source,\"html.parser\")\n",
    "    comments=soup.select(\"#content > div.article > div.obj_section.noline.center_obj > div.review > div.user_tx_area>p>span\")\n",
    "    for comment in comments:\n",
    "        print(comment.text)\n",
    "    \n",
    "read_comments(driver)"
   ]
  },
  {
   "cell_type": "code",
   "execution_count": null,
   "metadata": {},
   "outputs": [],
   "source": []
  },
  {
   "cell_type": "code",
   "execution_count": 104,
   "metadata": {},
   "outputs": [
    {
     "name": "stdout",
     "output_type": "stream",
     "text": [
      "31\n"
     ]
    }
   ],
   "source": [
    "def SafePosition(n,k):\n",
    "    ppl=list(range(1,n+1))\n",
    "    cnt=0\n",
    "    while len(ppl)>1:\n",
    "        for i in ppl:\n",
    "            cnt+=1\n",
    "            if cnt==k:\n",
    "                ppl.remove(i)\n",
    "                cnt=1\n",
    "            else:\n",
    "                continue\n",
    "    print(ppl[0])\n",
    "\n",
    "SafePosition(50,2)"
   ]
  },
  {
   "cell_type": "code",
   "execution_count": 102,
   "metadata": {},
   "outputs": [
    {
     "name": "stdout",
     "output_type": "stream",
     "text": [
      "37\n"
     ]
    }
   ],
   "source": [
    "def Killing_Order(n,k):\n",
    "    number=[i for i in range(1,n+1)]\n",
    "    count = (k-1)\n",
    "    while len(number) >1:\n",
    "        del number[count]\n",
    "        count = (count+k-1)%len(number)\n",
    "    return number[0]\n",
    "print(Killing_Order(50,2))"
   ]
  },
  {
   "cell_type": "code",
   "execution_count": 107,
   "metadata": {},
   "outputs": [
    {
     "name": "stdout",
     "output_type": "stream",
     "text": [
      "[1, 2, 4, 5, 7, 8, 10]\n"
     ]
    }
   ],
   "source": [
    "def joseph(n,k):\n",
    "    sol_li = list(range(1, n + 1))\n",
    "    remainder=0\n",
    "    reindex= k-1\n",
    "    while len(sol_li) > 1:\n",
    "        remainder=(len(sol_li)+remainder)%k\n",
    "        del sol_li[reindex::k]\n",
    "        reindex=k-1-remainder\n",
    "        return sol_li\n",
    "print(joseph(10,3))"
   ]
  },
  {
   "cell_type": "code",
   "execution_count": 105,
   "metadata": {},
   "outputs": [
    {
     "name": "stdout",
     "output_type": "stream",
     "text": [
      "50 2\n",
      "<2, 4, 6, 8, 10, 12, 14, 16, 18, 20, 22, 24, 26, 28, 30, 32, 34, 36, 38, 40, 42, 44, 46, 48, 50, 3, 7, 11, 15, 19, 23, 27, 31, 35, 39, 43, 47, 1, 9, 17, 25, 33, 41, 49, 13, 29, 45, 21, 5, 37>\n"
     ]
    }
   ],
   "source": [
    "N, K = map(int, input().split())\n",
    "arr = [i for i in range(1, N + 1)]  # 맨 처음에 원에 앉아있는 사람들\n",
    "answer = []  # 제거된 사람들을 넣을 배열\n",
    "num = 0  # 제거될 사람의 인덱스 번호\n",
    "for t in range(N):\n",
    "    num += K - 1\n",
    "    if num >= len(arr):  # 한바퀴를 돌고 그다음으로 돌아올때를 대비해 값을 나머지로 바꿈\n",
    "        num = num % len(arr)\n",
    "    answer.append(str(arr.pop(num)))\n",
    "print(\"<\", \", \".join(answer)[:], \">\", sep='')"
   ]
  },
  {
   "cell_type": "code",
   "execution_count": 100,
   "metadata": {},
   "outputs": [
    {
     "ename": "ValueError",
     "evalue": "list.remove(x): x not in list",
     "output_type": "error",
     "traceback": [
      "\u001b[1;31m---------------------------------------------------------------------------\u001b[0m",
      "\u001b[1;31mValueError\u001b[0m                                Traceback (most recent call last)",
      "\u001b[1;32m<ipython-input-100-653ff0dfaeab>\u001b[0m in \u001b[0;36m<module>\u001b[1;34m\u001b[0m\n\u001b[0;32m      2\u001b[0m \u001b[0mcircle\u001b[0m\u001b[1;33m.\u001b[0m\u001b[0mremove\u001b[0m\u001b[1;33m(\u001b[0m\u001b[1;36m3\u001b[0m\u001b[1;33m)\u001b[0m\u001b[1;33m\u001b[0m\u001b[1;33m\u001b[0m\u001b[0m\n\u001b[0;32m      3\u001b[0m \u001b[0mcircle\u001b[0m\u001b[1;33m\u001b[0m\u001b[1;33m\u001b[0m\u001b[0m\n\u001b[1;32m----> 4\u001b[1;33m \u001b[0mcircle\u001b[0m\u001b[1;33m.\u001b[0m\u001b[0mremove\u001b[0m\u001b[1;33m(\u001b[0m\u001b[1;36m3\u001b[0m\u001b[1;33m)\u001b[0m\u001b[1;33m\u001b[0m\u001b[1;33m\u001b[0m\u001b[0m\n\u001b[0m\u001b[0;32m      5\u001b[0m \u001b[0mcircle\u001b[0m\u001b[1;33m\u001b[0m\u001b[1;33m\u001b[0m\u001b[0m\n",
      "\u001b[1;31mValueError\u001b[0m: list.remove(x): x not in list"
     ]
    }
   ],
   "source": []
  },
  {
   "cell_type": "code",
   "execution_count": null,
   "metadata": {},
   "outputs": [],
   "source": []
  },
  {
   "cell_type": "code",
   "execution_count": null,
   "metadata": {},
   "outputs": [],
   "source": []
  }
 ],
 "metadata": {
  "kernelspec": {
   "display_name": "Python 3",
   "language": "python",
   "name": "python3"
  },
  "language_info": {
   "codemirror_mode": {
    "name": "ipython",
    "version": 3
   },
   "file_extension": ".py",
   "mimetype": "text/x-python",
   "name": "python",
   "nbconvert_exporter": "python",
   "pygments_lexer": "ipython3",
   "version": "3.8.3"
  }
 },
 "nbformat": 4,
 "nbformat_minor": 4
}
